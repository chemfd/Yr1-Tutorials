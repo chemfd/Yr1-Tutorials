{
 "cells": [
  {
   "cell_type": "markdown",
   "metadata": {},
   "source": [
    "# Physical Tutorial 1 with Jupyter Notebooks.\n",
    "\n",
    "# Ideal Gases\n",
    "\n",
    "Fiona Dickinson, University of Bath."
   ]
  },
  {
   "cell_type": "markdown",
   "metadata": {},
   "source": [
    "# Contents\n",
    "\n",
    "- [The Ideal Gas Equation](#ideal_gas)\n",
    "    - [Introduction to the code](#python)\n",
    "    \n",
    "    - [The Ideal Gas Equation](#ideal_gas)\n",
    "        - [Charles' Law](#charles)\n",
    "        - [Boyle's Law](#boyle)\n",
    "        - [Gay-Lussac's Law](#gay_lussac)\n",
    "        - [Avogadro's Law](#avagadro)\n",
    "        \n",
    "    - [The Mean Speed of Gas Molecules](#mean_speed)"
   ]
  },
  {
   "cell_type": "markdown",
   "metadata": {},
   "source": [
    "## Introduction to the code<a id=\"python\"></a>\n",
    "All of the Python concepts listed in this notebook have been covered in 'Introduction to Python' section of the CH10009 Lab Course.\n",
    "\n",
    "If you are unfamiliar with this material at the moment you will hopefully be able to examine the code to understand how some of the calculations have been performed.\n",
    "\n",
    "Some of the Python concepts used in this workbook are:\n",
    "- `numpy`\n",
    "- plotting using `matplotlib`\n",
    "- `scipy.constants`\n",
    "- mathematical calculations"
   ]
  },
  {
   "cell_type": "markdown",
   "metadata": {},
   "source": [
    "## The Ideal Gas Equation<a id=\"ideal_gas\"></a>\n",
    "\n",
    "You are now familiar with the ideal gas equation from your lectures, and this notebook is aimed at increasing your familiarity with the relationships between the variables in the ideal gas equation, as well as introducing you to a simple use of Python coding.\n",
    "\n",
    "The ideal gas law was produced by combining empirical observations made during the 17th, 18th and early 19th centuries.\n",
    "\n",
    "\\begin{equation}\n",
    "pV = n\\textrm{R}T,\n",
    "\\end{equation}\n",
    "\n",
    "which relates the pressure, volume, number of moles, and temperature in a gas in a single equation."
   ]
  },
  {
   "cell_type": "markdown",
   "metadata": {},
   "source": [
    "## Charles' Law<a id=\"charles\"></a>\n",
    "\n",
    "Charles' Law relates the volume of a gas to its temperature, at a constant pressure for a fixed number of moles. Jacques Charles found that the volume of a gas is directly proportional to it's temperature:\n",
    "\n",
    "\\begin{equation}\n",
    "V \\varpropto T\n",
    "\\end{equation}\n",
    "\n",
    "In the ideal gas law this can be expressed as:\n",
    "\n",
    "\\begin{equation}\n",
    "V =\\frac{n\\textrm{R}}{p}{T}\n",
    "\\end{equation}\n",
    "\n",
    "Where $\\frac{n\\textrm{R}}{p}$ is the constant of proportionality in Charles' law.\n",
    "\n",
    "The code below generates a series of numbers from 1 to 10, then manipulates these numbers to work at temperatures at and above room temperature. From these generated temperatures the volumes are calculated using basic mathematical manipulations."
   ]
  },
  {
   "cell_type": "markdown",
   "metadata": {},
   "source": [
    "When the cell below is run it returns two arrays, the first contains the tempearatures, the second the volume in m$^3$ that the gas occupies at the specified number of moles and pressure."
   ]
  },
  {
   "cell_type": "code",
   "execution_count": 2,
   "metadata": {
    "collapsed": false
   },
   "outputs": [
    {
     "name": "stdout",
     "output_type": "stream",
     "text": [
      "[ 293.  313.  333.  353.  373.  393.  413.  433.  453.  473.]\n",
      "[ 0.02436137  0.02602426  0.02768715  0.02935004  0.03101294  0.03267583\n",
      "  0.03433872  0.03600161  0.0376645   0.03932739]\n"
     ]
    }
   ],
   "source": [
    "import numpy as np\n",
    "T_K = np.linspace(293,473,10) #np.linspace is using numpy to generate 10 evenly spaced data points between 293 and 473\n",
    "T_K\n",
    "\n",
    "from scipy.constants import R #importing the gas constant - units of J K^-1 mol^-1\n",
    "\n",
    "#you can change these variables to change the plots.\n",
    "n = 1 #the number of moles - units mol\n",
    "p = 10**5 #the pressure - units Pa\n",
    "\n",
    "v = (n*R/p)*T_K\n",
    "\n",
    "print(T_K)\n",
    "print(v)"
   ]
  },
  {
   "cell_type": "code",
   "execution_count": 3,
   "metadata": {
    "collapsed": false
   },
   "outputs": [
    {
     "data": {
      "image/png": "[encoded data removed]",
      "text/plain": [
       "<matplotlib.figure.Figure at 0x10c201828>"
      ]
     },
     "metadata": {},
     "output_type": "display_data"
    }
   ],
   "source": [
    "import matplotlib.pyplot as plt\n",
    "%matplotlib inline\n",
    "plt.plot(T_K, v,'o')\n",
    "plt.title('Charles Law')\n",
    "plt.xlabel( 'T / K' )\n",
    "plt.ylabel( 'V / m$^3$' )\n",
    "plt.show()"
   ]
  },
  {
   "cell_type": "markdown",
   "metadata": {},
   "source": [
    "## Boyle's Law<a id=\"boyle\"></a>\n",
    "\n",
    "Boyle's Law was the first empirical relationship for a relating the pressure of a gas to its volume, at a constant temperature, for a fixed number of moles. Robert Boyle found that the pressure of a gas is inversely proportional to it's volume. In other words, as the volume *increases*, the pressure *decreases*, if the number of moles and temperature remains the same.\n",
    "\n",
    "\\begin{equation}\n",
    "p \\varpropto \\frac{1}{V}\n",
    "\\end{equation}\n",
    "\n",
    "In the ideal gas law this corresponds to:\n",
    "\n",
    "\\begin{equation}\n",
    "p =n\\textrm{R}T\\frac{1}{V}\n",
    "\\end{equation}\n",
    "or\n",
    "\n",
    "\\begin{equation}\n",
    "\\frac{1}{n\\textrm{R}T}p =\\frac{1}{V}\n",
    "\\end{equation}\n",
    "Where $n\\textrm{R}T$ is the constant of proportionality in Boyle's law.\n",
    "\n",
    "The code below generates a series of numbers from 1 to 10, then manipulates these numbers to work at pressures near atmospheric pressure. From these generated temperatures the reciprical volumes are calculated using basic mathematical manipulations."
   ]
  },
  {
   "cell_type": "markdown",
   "metadata": {},
   "source": [
    "When the cell below is run it returns two arrays, the first contains the pressures in pascals, the second the volume in m$^3$ that the gas occupies at the specified temperature and number of moles."
   ]
  },
  {
   "cell_type": "code",
   "execution_count": 4,
   "metadata": {
    "collapsed": false
   },
   "outputs": [
    {
     "name": "stdout",
     "output_type": "stream",
     "text": [
      "[  10000.   35000.   60000.   85000.  110000.  135000.  160000.  185000.\n",
      "  210000.  235000.  260000.]\n",
      "[ 0.24361367  0.06960391  0.04060228  0.02866043  0.0221467   0.01804546\n",
      "  0.01522585  0.01316831  0.01160065  0.01036654  0.00936976]\n"
     ]
    }
   ],
   "source": [
    "p_Pa = np.linspace(10000,260000,11)\n",
    "p_Pa\n",
    "\n",
    "# from scipy.constants import R #importing the gas constant - units of J K-1 mol-1 \n",
    "#this line isn't needed because we've already imported R above\n",
    "\n",
    "#you can change these variables to change the plots.\n",
    "n = 1 #the number of moles - units mol\n",
    "T = 293 #the temperature - units K - always remember to use SI units\n",
    "\n",
    "v_inv = p_Pa/(n*R*T) #v_inv is the reciprocal volume\n",
    "v= 1/v_inv #v is the volume in m^3\n",
    "\n",
    "print(p_Pa)\n",
    "print(v) #how do I convert these automagically to dm^3?????"
   ]
  },
  {
   "cell_type": "code",
   "execution_count": 5,
   "metadata": {
    "collapsed": false
   },
   "outputs": [
    {
     "data": {
      "text/plain": [
       "array([ 243.61367214,   69.60390633,   40.60227869,   28.66043202,\n",
       "         22.14669747,   18.0454572 ,   15.22585451,   13.1683066 ,\n",
       "         11.60065105,   10.36653924,    9.36975662])"
      ]
     },
     "execution_count": 5,
     "metadata": {},
     "output_type": "execute_result"
    }
   ],
   "source": [
    "### BEN\n",
    "v *= 1e3 #how do I convert these automagically to dm^3?????\n",
    "v"
   ]
  },
  {
   "cell_type": "code",
   "execution_count": 6,
   "metadata": {
    "collapsed": false
   },
   "outputs": [
    {
     "data": {
      "image/png": "[encoded data removed]",
      "text/plain": [
       "<matplotlib.figure.Figure at 0x114df5588>"
      ]
     },
     "metadata": {},
     "output_type": "display_data"
    }
   ],
   "source": [
    "plt.plot(v, p_Pa,'o')\n",
    "plt.title('Boyle Law')\n",
    "plt.xlabel( 'V / dm$^3$' )\n",
    "plt.ylabel( 'p / Pa' )\n",
    "plt.show()"
   ]
  },
  {
   "cell_type": "markdown",
   "metadata": {},
   "source": [
    "## Gay-Lussac's Law<a id=\"boyle\"></a>\n",
    "\n",
    "Gay-Lussac's law is the least well known of the empurical laws that go into building the ideal gas law. It is also know as &ldquo;Amontons' Law&rdquo;. Gay-Lussac's law states that the pressure exerted on the sides of an enclosing container, for a given molecular mass and at constant volume, is directly proportional to the absolute temperature.\n",
    "\n",
    "\n",
    "\\begin{equation}\n",
    "p \\varpropto T\n",
    "\\end{equation}\n",
    "\n",
    "The molecular mass is not normally considered in the ideal gas equation — but it is an important consideration, because the pressure of a exerted when hitting the sides of a container is related to the force of the gas molecules. Newton famously linked force to mass using the famous:\n",
    "\n",
    "\\begin{equation}\n",
    "F = ma\n",
    "\\end{equation}\n",
    "\n",
    "In the ideal gas law the mass of the atoms isn't required (just the total number of moles) , as a separate exercise you may wish to work out why. \n",
    "\n",
    "In the context of the ideal gas law, Gay-Lussac's law can be expressed as:\n",
    "\n",
    "\\begin{equation}\n",
    "p =\\frac{n\\textrm{R}}{V}T\n",
    "\\end{equation}\n",
    "\n",
    "The code below reuses the temperatures generated above, from these generated temperatures the pressures are calculated using basic mathematical manipulations."
   ]
  },
  {
   "cell_type": "markdown",
   "metadata": {},
   "source": [
    "When the cell below is run it returns two arrays, the first contains the temperatures, the second the pressure in pascals that the gas occupies at the specified volume and number of moles."
   ]
  },
  {
   "cell_type": "code",
   "execution_count": 7,
   "metadata": {
    "collapsed": false
   },
   "outputs": [
    {
     "name": "stdout",
     "output_type": "stream",
     "text": [
      "[ 293.  313.  333.  353.  373.  393.  413.  433.  453.  473.]\n",
      "[ 60903.418035  65060.647935  69217.877835  73375.107735  77532.337635\n",
      "  81689.567535  85846.797435  90004.027335  94161.257235  98318.487135]\n"
     ]
    }
   ],
   "source": [
    "#we're using the same values as T from above so I just need to use T_K\n",
    "\n",
    "#you can change these variables to change the plots.\n",
    "n = 25 #the number of moles - units mol\n",
    "V = 1 #the temperature - units K - always remember to use SI units\n",
    "\n",
    "p_var = (n*R*T_K)/V #p_var is a new term for pressure so the data above is preserved\n",
    "\n",
    "print(T_K)\n",
    "print(p_var) #how do I convert these automagically to dm^3?????"
   ]
  },
  {
   "cell_type": "code",
   "execution_count": 12,
   "metadata": {
    "collapsed": false
   },
   "outputs": [
    {
     "data": {
      "image/png": "[encoded data removed]",
      "text/plain": [
       "<matplotlib.figure.Figure at 0x1152c5b00>"
      ]
     },
     "metadata": {},
     "output_type": "display_data"
    }
   ],
   "source": [
    "plt.plot(T_K, p_var,'o')\n",
    "plt.title('Gay Lussac')\n",
    "plt.xlabel( 'T / K' )\n",
    "plt.ylabel( 'p / Pa' )\n",
    "plt.show()"
   ]
  },
  {
   "cell_type": "markdown",
   "metadata": {},
   "source": [
    "## Avagadro's Law<a id=\"avagadro\"></a>\n",
    "\n",
    "Avagadro's law is the final empirical law that goes into building the ideal gas law. Avagadro's law states that the volume of a gas is proportional to the number of moles, for a given pressure and temperature.\n",
    "\n",
    "\\begin{equation}\n",
    "V \\varpropto n\n",
    "\\end{equation}\n",
    "\n",
    "In the contet of the ideal gas law, this can be expressed as:\n",
    "\n",
    "\\begin{equation}\n",
    "V =\\frac{n\\textrm{R}T}{V}\n",
    "\\end{equation}\n",
    "\n",
    "The code below generates a series of numbers from 1 to 10, and uses these as number of moles directly. From these generated temperatures the volumes are calculated using basic mathematical manipulations."
   ]
  },
  {
   "cell_type": "markdown",
   "metadata": {},
   "source": [
    "When the cell below is run it returns two arrays, the first contains the number of moles, the second the volume in m$^3$ that the gas occupies at the specified pressure and temperature."
   ]
  },
  {
   "cell_type": "code",
   "execution_count": 9,
   "metadata": {
    "collapsed": false
   },
   "outputs": [
    {
     "name": "stdout",
     "output_type": "stream",
     "text": [
      "[ 1  2  3  4  5  6  7  8  9 10]\n",
      "[ 0.02436137  0.04872273  0.0730841   0.09744547  0.12180684  0.1461682\n",
      "  0.17052957  0.19489094  0.2192523   0.24361367]\n"
     ]
    }
   ],
   "source": [
    "n_var = np.arange(1,11)\n",
    "n_var\n",
    "\n",
    "#you can change these variables to change the plots.\n",
    "T = 293   # Temperature - units K\n",
    "p = 10**5 # Pressure - units Pa\n",
    "\n",
    "v_var = (R*T/p)*n_var\n",
    "\n",
    "print(n_var)\n",
    "print(v_var)"
   ]
  },
  {
   "cell_type": "code",
   "execution_count": 10,
   "metadata": {
    "collapsed": false
   },
   "outputs": [
    {
     "data": {
      "image/png": "[encoded data removed]",
      "text/plain": [
       "<matplotlib.figure.Figure at 0x114df5400>"
      ]
     },
     "metadata": {},
     "output_type": "display_data"
    }
   ],
   "source": [
    "plt.plot(n_var, v_var,'o')\n",
    "plt.title('Avagadro')\n",
    "plt.xlabel( 'n / mol' )\n",
    "plt.ylabel( 'V / m$^3$' )\n",
    "plt.show()"
   ]
  },
  {
   "cell_type": "markdown",
   "metadata": {},
   "source": [
    "## Mean speed of gases<a id=\"mean_speed\"></a>\n",
    "Question 2 on the tutorial involves calculating the mean speed of molecules in gases. This quick calculation shows how the mean speed of an atom or molecule in a gas depends upon absolute temperature.\n",
    "\n",
    "\\begin{equation}\n",
    "c =\\sqrt\\frac{3\\textrm{R}T}{M_r}\n",
    "\\end{equation}\n",
    "\n",
    "Where c is the mean speed of the particle and M$_r$ is the molecular mass (in g mol$^{-1}$).\n",
    "\n",
    "The following code quickly calculates the mean speed for a range of temperatures for neon, M$_{Ne}$ = 20.1797 g mol$^{-1}$"
   ]
  },
  {
   "cell_type": "code",
   "execution_count": 14,
   "metadata": {
    "collapsed": false
   },
   "outputs": [
    {
     "data": {
      "image/png": "[encoded data removed]",
      "text/plain": [
       "<matplotlib.figure.Figure at 0x1153caba8>"
      ]
     },
     "metadata": {},
     "output_type": "display_data"
    }
   ],
   "source": [
    "T_ms = np.linspace(193,673,25) #generating a data set for a range of temperatures\n",
    "\n",
    "#you can change these variables to change the plots.\n",
    "M_Ne = 0.0201797 #units of kg mol-1\n",
    "M_Ar = 0.039948\n",
    "M_Kr = 0.083798\n",
    "\n",
    "cNe2 = 3*R*T_ms/M_Ne\n",
    "cAr2 = 3*R*T_ms/M_Ar\n",
    "cKr2 = 3*R*T_ms/M_Kr\n",
    "\n",
    "cNe = np.sqrt(cNe2)\n",
    "cAr = np.sqrt(cAr2)\n",
    "cKr = np.sqrt(cKr2)\n",
    "\n",
    "plt.plot(T_ms, cNe,'o', label='Ne')\n",
    "plt.plot(T_ms, cAr,'o', label='Ar')\n",
    "plt.plot(T_ms, cKr,'o', label='Kr')\n",
    "plt.title('mean speed of gases')\n",
    "plt.xlabel( 'T / K' )\n",
    "plt.ylabel( 'c / m s$^{-1}$' )\n",
    "plt.show()"
   ]
  }
 ],
 "metadata": {
  "kernelspec": {
   "display_name": "Python 3",
   "language": "python",
   "name": "python3"
  },
  "language_info": {
   "codemirror_mode": {
    "name": "ipython",
    "version": 3
   },
   "file_extension": ".py",
   "mimetype": "text/x-python",
   "name": "python",
   "nbconvert_exporter": "python",
   "pygments_lexer": "ipython3",
   "version": "3.6.0"
  }
 },
 "nbformat": 4,
 "nbformat_minor": 2
}
